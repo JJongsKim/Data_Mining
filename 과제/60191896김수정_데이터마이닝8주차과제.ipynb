{
 "cells": [
  {
   "cell_type": "code",
   "execution_count": 53,
   "metadata": {},
   "outputs": [
    {
     "data": {
      "text/html": [
       "<div>\n",
       "<style scoped>\n",
       "    .dataframe tbody tr th:only-of-type {\n",
       "        vertical-align: middle;\n",
       "    }\n",
       "\n",
       "    .dataframe tbody tr th {\n",
       "        vertical-align: top;\n",
       "    }\n",
       "\n",
       "    .dataframe thead th {\n",
       "        text-align: right;\n",
       "    }\n",
       "</style>\n",
       "<table border=\"1\" class=\"dataframe\">\n",
       "  <thead>\n",
       "    <tr style=\"text-align: right;\">\n",
       "      <th></th>\n",
       "      <th></th>\n",
       "      <th>Age</th>\n",
       "      <th>Salary</th>\n",
       "    </tr>\n",
       "    <tr>\n",
       "      <th>Position</th>\n",
       "      <th>Team</th>\n",
       "      <th></th>\n",
       "      <th></th>\n",
       "    </tr>\n",
       "  </thead>\n",
       "  <tbody>\n",
       "    <tr>\n",
       "      <th rowspan=\"5\" valign=\"top\">C</th>\n",
       "      <th>Atlanta Hawks</th>\n",
       "      <td>28.333333</td>\n",
       "      <td>7.585417e+06</td>\n",
       "    </tr>\n",
       "    <tr>\n",
       "      <th>Boston Celtics</th>\n",
       "      <td>25.000000</td>\n",
       "      <td>2.450465e+06</td>\n",
       "    </tr>\n",
       "    <tr>\n",
       "      <th>Brooklyn Nets</th>\n",
       "      <td>27.000000</td>\n",
       "      <td>1.031814e+07</td>\n",
       "    </tr>\n",
       "    <tr>\n",
       "      <th>Charlotte Hornets</th>\n",
       "      <td>25.666667</td>\n",
       "      <td>6.772240e+06</td>\n",
       "    </tr>\n",
       "    <tr>\n",
       "      <th>Chicago Bulls</th>\n",
       "      <td>33.000000</td>\n",
       "      <td>1.042438e+07</td>\n",
       "    </tr>\n",
       "    <tr>\n",
       "      <th>...</th>\n",
       "      <th>...</th>\n",
       "      <td>...</td>\n",
       "      <td>...</td>\n",
       "    </tr>\n",
       "    <tr>\n",
       "      <th rowspan=\"5\" valign=\"top\">SG</th>\n",
       "      <th>Sacramento Kings</th>\n",
       "      <td>26.250000</td>\n",
       "      <td>2.794976e+06</td>\n",
       "    </tr>\n",
       "    <tr>\n",
       "      <th>San Antonio Spurs</th>\n",
       "      <td>31.250000</td>\n",
       "      <td>3.384923e+06</td>\n",
       "    </tr>\n",
       "    <tr>\n",
       "      <th>Toronto Raptors</th>\n",
       "      <td>24.500000</td>\n",
       "      <td>5.350000e+06</td>\n",
       "    </tr>\n",
       "    <tr>\n",
       "      <th>Utah Jazz</th>\n",
       "      <td>23.500000</td>\n",
       "      <td>5.405962e+06</td>\n",
       "    </tr>\n",
       "    <tr>\n",
       "      <th>Washington Wizards</th>\n",
       "      <td>27.250000</td>\n",
       "      <td>2.839248e+06</td>\n",
       "    </tr>\n",
       "  </tbody>\n",
       "</table>\n",
       "<p>149 rows × 2 columns</p>\n",
       "</div>"
      ],
      "text/plain": [
       "                                   Age        Salary\n",
       "Position Team                                       \n",
       "C        Atlanta Hawks       28.333333  7.585417e+06\n",
       "         Boston Celtics      25.000000  2.450465e+06\n",
       "         Brooklyn Nets       27.000000  1.031814e+07\n",
       "         Charlotte Hornets   25.666667  6.772240e+06\n",
       "         Chicago Bulls       33.000000  1.042438e+07\n",
       "...                                ...           ...\n",
       "SG       Sacramento Kings    26.250000  2.794976e+06\n",
       "         San Antonio Spurs   31.250000  3.384923e+06\n",
       "         Toronto Raptors     24.500000  5.350000e+06\n",
       "         Utah Jazz           23.500000  5.405962e+06\n",
       "         Washington Wizards  27.250000  2.839248e+06\n",
       "\n",
       "[149 rows x 2 columns]"
      ]
     },
     "execution_count": 53,
     "metadata": {},
     "output_type": "execute_result"
    }
   ],
   "source": [
    "import pandas as pd\n",
    "import numpy as np\n",
    "import matplotlib.pyplot as plt \n",
    "from pandas import Series, DataFrame\n",
    "\n",
    "data = pd.read_csv(\"nba.csv\")\n",
    "\n",
    "#2번. 피벗테이블 만들기\n",
    "data.pivot_table(['Age', 'Salary'],index=['Position', 'Team'])"
   ]
  },
  {
   "cell_type": "code",
   "execution_count": 91,
   "metadata": {},
   "outputs": [
    {
     "data": {
      "text/plain": [
       "<Figure size 432x288 with 0 Axes>"
      ]
     },
     "execution_count": 91,
     "metadata": {},
     "output_type": "execute_result"
    },
    {
     "data": {
      "image/png": "[encoded data removed]",
      "text/plain": [
       "<Figure size 432x288 with 1 Axes>"
      ]
     },
     "metadata": {
      "needs_background": "light"
     },
     "output_type": "display_data"
    },
    {
     "data": {
      "image/png": "[encoded data removed]",
      "text/plain": [
       "<Figure size 432x288 with 1 Axes>"
      ]
     },
     "metadata": {
      "needs_background": "light"
     },
     "output_type": "display_data"
    },
    {
     "data": {
      "text/plain": [
       "<Figure size 432x288 with 0 Axes>"
      ]
     },
     "metadata": {},
     "output_type": "display_data"
    }
   ],
   "source": [
    "#3번. 팀별 최고령자 및 최고 연봉자그림으로 나타내기\n",
    "\n",
    "#팀별 평균연봉\n",
    "team_highestSalary = data['Salary'].groupby(data['Team']).max()\n",
    "\n",
    "plt.subplot(2, 1, 1)\n",
    "team_highestSalary.plot.bar(title=\"Maximum salary for each team\")\n",
    "plt.xticks(rotation=0)\n",
    "plt.xlabel(\"\")\n",
    "plt.figure()\n",
    "\n",
    "#팀별 최고령자\n",
    "team_highestAge = data['Age'].groupby(data['Team']).max()\n",
    "\n",
    "plt.subplot(2, 1, 2)\n",
    "team_highestAge.plot.bar(title=\"Maximum Age for each team\")\n",
    "plt.xticks(rotation=0)\n",
    "plt.xlabel(\"\")\n",
    "plt.figure()"
   ]
  },
  {
   "cell_type": "code",
   "execution_count": null,
   "metadata": {},
   "outputs": [],
   "source": []
  }
 ],
 "metadata": {
  "kernelspec": {
   "display_name": "Python 3",
   "language": "python",
   "name": "python3"
  },
  "language_info": {
   "codemirror_mode": {
    "name": "ipython",
    "version": 3
   },
   "file_extension": ".py",
   "mimetype": "text/x-python",
   "name": "python",
   "nbconvert_exporter": "python",
   "pygments_lexer": "ipython3",
   "version": "3.8.5"
  }
 },
 "nbformat": 4,
 "nbformat_minor": 4
}
