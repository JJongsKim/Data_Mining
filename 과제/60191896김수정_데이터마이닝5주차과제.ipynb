{
 "cells": [
  {
   "cell_type": "code",
   "execution_count": 59,
   "metadata": {},
   "outputs": [
    {
     "name": "stdout",
     "output_type": "stream",
     "text": [
      "10명 학생들의 국영수과 점수\n",
      " [[91 40 15 27]\n",
      " [15 23 82 47]\n",
      " [82 91  3 51]\n",
      " [33 29 58 21]\n",
      " [19 99 45 93]\n",
      " [36 39 40 78]\n",
      " [30 28 69 55]\n",
      " [76 64 30 26]\n",
      " [69 90 97 65]\n",
      " [79 90  6 38]] \n",
      "\n"
     ]
    },
    {
     "data": {
      "image/png": "[encoded data removed]",
      "text/plain": [
       "<Figure size 432x288 with 1 Axes>"
      ]
     },
     "metadata": {
      "needs_background": "light"
     },
     "output_type": "display_data"
    },
    {
     "data": {
      "image/png": "[encoded data removed]",
      "text/plain": [
       "<Figure size 432x288 with 4 Axes>"
      ]
     },
     "metadata": {
      "needs_background": "light"
     },
     "output_type": "display_data"
    },
    {
     "data": {
      "image/png": "[encoded data removed]",
      "text/plain": [
       "<Figure size 432x288 with 1 Axes>"
      ]
     },
     "metadata": {},
     "output_type": "display_data"
    },
    {
     "data": {
      "image/png": "[encoded data removed]",
      "text/plain": [
       "<Figure size 432x288 with 1 Axes>"
      ]
     },
     "metadata": {
      "needs_background": "light"
     },
     "output_type": "display_data"
    },
    {
     "data": {
      "text/plain": [
       "<Figure size 432x288 with 0 Axes>"
      ]
     },
     "metadata": {},
     "output_type": "display_data"
    }
   ],
   "source": [
    "import numpy as np\n",
    "import matplotlib.pyplot as plt \n",
    "\n",
    "def main():\n",
    "    Score = np.random.randint(100, size=(10, 4))\n",
    "    print(\"10명 학생들의 국영수과 점수\\n\", Score, \"\\n\")\n",
    "    Korean_English(Score) #1번문제 \n",
    "    subScore_count(Score) #2번문제\n",
    "    pie_chart(Score) #3번문제\n",
    "    box(Score) #4번문제\n",
    "    \n",
    "#1번. x(영어), y(국어)로 흩뿌리기\n",
    "def Korean_English(Score):\n",
    "    x = Score[:, 1:2] #영어점수\n",
    "    y = Score[:, 0:1] #국어점수\n",
    "    \n",
    "    plt.xlim(0, 100)\n",
    "    plt.xlabel(\"English\")\n",
    "    plt.ylim(0, 100)\n",
    "    plt.ylabel(\"Korea\")\n",
    "\n",
    "    plt.plot(x, y, '^')\n",
    "    plt.figure()\n",
    "        \n",
    "#2번. 과목별 점수인원\n",
    "def subScore_count(Score):\n",
    "    \n",
    "    Korea = Score[:, 0:1]\n",
    "    English = Score[:, 1:2]\n",
    "    Math = Score[:, 2:3]\n",
    "    Science = Score[:, 3:4]\n",
    "    \n",
    "    #국어 히스토그램\n",
    "    plt.subplot(2, 2, 1)\n",
    "    plt.hist(Korea)\n",
    "    plt.xlabel(\"Korea\")\n",
    "    plt.ylabel(\"count\")\n",
    "    \n",
    "    #영어 히스토그램\n",
    "    plt.subplot(2, 2, 2)\n",
    "    plt.hist(English)\n",
    "    plt.xlabel(\"English\")\n",
    "    plt.ylabel(\"count\")\n",
    "    \n",
    "    #수학 히스토그램\n",
    "    plt.subplot(2, 2, 3)\n",
    "    plt.hist(Math)\n",
    "    plt.xlabel(\"Math\")\n",
    "    plt.ylabel(\"count\")\n",
    "    \n",
    "    #과학 히스토그램\n",
    "    plt.subplot(2, 2, 4)\n",
    "    plt.hist(Science)\n",
    "    plt.xlabel(\"Science\")\n",
    "    plt.ylabel(\"count\")\n",
    "    \n",
    "    plt.tight_layout() #그림 간격 떨어트리기\n",
    "    plt.figure()\n",
    "    \n",
    "#3번. 국어점수별 파이차트 그리기 \n",
    "def pie_chart(Score):\n",
    "    A = np.where(Score >= 90, 'A', Score)\n",
    "    B = np.where((Score < 90) & (Score >= 80), 'B', Score)\n",
    "    C = np.where((Score < 80) & (Score >= 70), 'C', Score)\n",
    "    D = np.where(Score < 70, 'D', Score)\n",
    "\n",
    "    Score = A\n",
    "    Score = np.where(Score != 'A', B, Score)\n",
    "    Score = np.where((Score != 'A') & (Score != 'B'), C, Score)\n",
    "    Score = np.where((Score != 'A') & (Score != 'B') & (Score != 'C'), D, Score)\n",
    "    \n",
    "    #2차원배열 -> 1차원배열로 낮추기\n",
    "    Score = Score.ravel()\n",
    "    \n",
    "    A = list(Score).count('A')\n",
    "    B = list(Score).count('B')\n",
    "    C = list(Score).count('C')\n",
    "    D = list(Score).count('D')\n",
    "    \n",
    "    arrlist = [A, B, C, D]\n",
    "    label = ['A', 'B', 'C', 'D']\n",
    "    plt.pie(arrlist, labels = label)\n",
    "    plt.figure()\n",
    "\n",
    "#4번. boxplot으로 최대최소, 중간값 표시하기\n",
    "def box(Score):\n",
    "    arrlist = Score\n",
    "    \n",
    "    label = ['Kor', 'Eng', 'Math', 'Science']\n",
    "    \n",
    "    plt.boxplot(arrlist, labels=label)\n",
    "    plt.figure()\n",
    "\n",
    "    \n",
    "main()"
   ]
  },
  {
   "cell_type": "code",
   "execution_count": null,
   "metadata": {},
   "outputs": [],
   "source": []
  }
 ],
 "metadata": {
  "kernelspec": {
   "display_name": "Python 3",
   "language": "python",
   "name": "python3"
  },
  "language_info": {
   "codemirror_mode": {
    "name": "ipython",
    "version": 3
   },
   "file_extension": ".py",
   "mimetype": "text/x-python",
   "name": "python",
   "nbconvert_exporter": "python",
   "pygments_lexer": "ipython3",
   "version": "3.8.5"
  }
 },
 "nbformat": 4,
 "nbformat_minor": 4
}
