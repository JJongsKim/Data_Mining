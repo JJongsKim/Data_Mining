{
 "cells": [
  {
   "cell_type": "code",
   "execution_count": 61,
   "metadata": {},
   "outputs": [
    {
     "name": "stdout",
     "output_type": "stream",
     "text": [
      "iris 데이터프레임\n",
      "\n",
      "     sepal length (cm)  sepal width (cm)  petal length (cm)  petal width (cm)  \\\n",
      "0                  5.1               3.5                1.4               0.2   \n",
      "1                  4.9               3.0                1.4               0.2   \n",
      "2                  4.7               3.2                1.3               0.2   \n",
      "3                  4.6               3.1                1.5               0.2   \n",
      "4                  5.0               3.6                1.4               0.2   \n",
      "..                 ...               ...                ...               ...   \n",
      "145                6.7               3.0                5.2               2.3   \n",
      "146                6.3               2.5                5.0               1.9   \n",
      "147                6.5               3.0                5.2               2.0   \n",
      "148                6.2               3.4                5.4               2.3   \n",
      "149                5.9               3.0                5.1               1.8   \n",
      "\n",
      "     target targetName  \n",
      "0         0     setosa  \n",
      "1         0     setosa  \n",
      "2         0     setosa  \n",
      "3         0     setosa  \n",
      "4         0     setosa  \n",
      "..      ...        ...  \n",
      "145       2  virginica  \n",
      "146       2  virginica  \n",
      "147       2  virginica  \n",
      "148       2  virginica  \n",
      "149       2  virginica  \n",
      "\n",
      "[150 rows x 6 columns]\n"
     ]
    },
    {
     "data": {
      "text/plain": [
       "<Figure size 432x288 with 0 Axes>"
      ]
     },
     "execution_count": 61,
     "metadata": {},
     "output_type": "execute_result"
    },
    {
     "data": {
      "image/png": "[encoded data removed]",
      "text/plain": [
       "<Figure size 432x288 with 1 Axes>"
      ]
     },
     "metadata": {
      "needs_background": "light"
     },
     "output_type": "display_data"
    },
    {
     "data": {
      "image/png": "[encoded data removed]",
      "text/plain": [
       "<Figure size 432x288 with 1 Axes>"
      ]
     },
     "metadata": {
      "needs_background": "light"
     },
     "output_type": "display_data"
    },
    {
     "data": {
      "text/plain": [
       "<Figure size 432x288 with 0 Axes>"
      ]
     },
     "metadata": {},
     "output_type": "display_data"
    }
   ],
   "source": [
    "from sklearn.datasets import load_iris\n",
    "import matplotlib.pyplot as plt\n",
    "import pandas as pd\n",
    "import numpy as np\n",
    "\n",
    "iris = load_iris()\n",
    "\n",
    "sepal_length = iris.data[:, 0:1]\n",
    "sepal_length = sepal_length.ravel()\n",
    "\n",
    "sepal_width = iris.data[:, 1:2]\n",
    "sepal_width = sepal_width.ravel()\n",
    "\n",
    "petal_length = iris.data[:, 2:3]\n",
    "petal_length = petal_length.ravel()\n",
    "\n",
    "petal_width = iris.data[:, 3:]\n",
    "petal_width = petal_width.ravel()\n",
    "\n",
    "target_Name = iris.target\n",
    "target_Name = np.where((target_Name == 0), 'setosa', np.where((target_Name == 1),'versicolor', 'virginica'))\n",
    "\n",
    "data = {'sepal length (cm)': sepal_length,\n",
    "        'sepal width (cm)': sepal_width,\n",
    "        'petal length (cm)' : petal_length,\n",
    "        'petal width (cm)' : petal_width,\n",
    "        'target' : iris.target,\n",
    "        'targetName' : target_Name}\n",
    "\n",
    "df = pd.DataFrame(data)\n",
    "\n",
    "print(\"iris 데이터프레임\")\n",
    "print()\n",
    "print(df)\n",
    "\n",
    "#target값에 따라 데이터프레임 값 추출하기\n",
    "setosa = df.loc[df['target'] == 0]\n",
    "versicolor = df.loc[df['target'] == 1]\n",
    "virginica = df.loc[df['target'] == 2]\n",
    "\n",
    "#sepal에 대한 setosa 정보 넣기\n",
    "sepal_x_setosa = setosa['sepal length (cm)']\n",
    "sepal_y_setosa = setosa['sepal width (cm)']\n",
    "#sepal에 대한 versicolor 정보 넣기\n",
    "sepal_x_versicolor = versicolor['sepal length (cm)']\n",
    "sepal_y_versicolor = versicolor['sepal width (cm)']\n",
    "#sepal에 대한 virginica 정보 넣기\n",
    "sepal_x_virginica = virginica['sepal length (cm)']\n",
    "sepal_y_virginica = virginica['sepal width (cm)']\n",
    "\n",
    "\n",
    "#petal에 대한 setosa 정보 넣기\n",
    "petal_x_setosa = setosa['petal length (cm)']\n",
    "petal_y_setosa = setosa['petal width (cm)']\n",
    "#petal에 대한 versicolor 정보 넣기\n",
    "petal_x_versicolor = versicolor['petal length (cm)']\n",
    "petal_y_versicolor = versicolor['petal width (cm)']\n",
    "#petal에 대한 virginica 정보 넣기\n",
    "petal_x_virginica = virginica['petal length (cm)']\n",
    "petal_y_virginica = virginica['petal width (cm)']\n",
    "\n",
    "#sepal 그래프 그리기\n",
    "plt.plot(sepal_x_setosa, sepal_y_setosa, 'o', color='r', label=\"setosa\")\n",
    "plt.plot(sepal_x_versicolor, sepal_y_versicolor, 'x', color='b', label=\"versicolor\")\n",
    "plt.plot(sepal_x_virginica, sepal_y_virginica, '^', color='g', label=\"virginica\")\n",
    "plt.xlabel(\"sepal length\")\n",
    "plt.ylabel(\"sepal width\")\n",
    "plt.legend()\n",
    "plt.figure()\n",
    "\n",
    "#petal 그래프 그리기\n",
    "plt.plot(petal_x_setosa, petal_y_setosa, 'o', color='r', label=\"setosa\")\n",
    "plt.plot(petal_x_versicolor, petal_y_versicolor, 'x', color='b', label=\"versicolor\")\n",
    "plt.plot(petal_x_virginica, petal_y_virginica, '^', color='g', label=\"virginica\")\n",
    "plt.xlabel(\"petal length\")\n",
    "plt.ylabel(\"petal width\")\n",
    "plt.legend(loc='upper left')\n",
    "plt.figure()"
   ]
  }
 ],
 "metadata": {
  "kernelspec": {
   "display_name": "Python 3",
   "language": "python",
   "name": "python3"
  },
  "language_info": {
   "codemirror_mode": {
    "name": "ipython",
    "version": 3
   },
   "file_extension": ".py",
   "mimetype": "text/x-python",
   "name": "python",
   "nbconvert_exporter": "python",
   "pygments_lexer": "ipython3",
   "version": "3.8.5"
  }
 },
 "nbformat": 4,
 "nbformat_minor": 4
}
