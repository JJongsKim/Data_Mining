{
 "cells": [
  {
   "cell_type": "markdown",
   "metadata": {},
   "source": [
    "### 1번 문제\n",
    "loc를 이용하여 모든 행의 4가지 열을 뽑아내어 filter1에 넣어주었고, 다시 filter1의 값을 이용해  \n",
    "Team열의 임의의 2개의 팀을 골라 filter2에 넣어주었다.\n",
    "\n",
    "New York Knicks 팀부터 Los Angeles Lakers 팀 방향으로 각 팀원의 나이, 연봉, 포지션, 어떤 팀인지 볼 수 있는 표다."
   ]
  },
  {
   "cell_type": "code",
   "execution_count": 25,
   "metadata": {},
   "outputs": [
    {
     "data": {
      "text/html": [
       "<div>\n",
       "<style scoped>\n",
       "    .dataframe tbody tr th:only-of-type {\n",
       "        vertical-align: middle;\n",
       "    }\n",
       "\n",
       "    .dataframe tbody tr th {\n",
       "        vertical-align: top;\n",
       "    }\n",
       "\n",
       "    .dataframe thead th {\n",
       "        text-align: right;\n",
       "    }\n",
       "</style>\n",
       "<table border=\"1\" class=\"dataframe\">\n",
       "  <thead>\n",
       "    <tr style=\"text-align: right;\">\n",
       "      <th></th>\n",
       "      <th>Age</th>\n",
       "      <th>Salary</th>\n",
       "      <th>Position</th>\n",
       "      <th>Team</th>\n",
       "    </tr>\n",
       "  </thead>\n",
       "  <tbody>\n",
       "    <tr>\n",
       "      <th>30</th>\n",
       "      <td>30.0</td>\n",
       "      <td>8000000.0</td>\n",
       "      <td>SG</td>\n",
       "      <td>New York Knicks</td>\n",
       "    </tr>\n",
       "    <tr>\n",
       "      <th>31</th>\n",
       "      <td>33.0</td>\n",
       "      <td>1635476.0</td>\n",
       "      <td>PF</td>\n",
       "      <td>New York Knicks</td>\n",
       "    </tr>\n",
       "    <tr>\n",
       "      <th>32</th>\n",
       "      <td>23.0</td>\n",
       "      <td>30888.0</td>\n",
       "      <td>SF</td>\n",
       "      <td>New York Knicks</td>\n",
       "    </tr>\n",
       "    <tr>\n",
       "      <th>33</th>\n",
       "      <td>32.0</td>\n",
       "      <td>22875000.0</td>\n",
       "      <td>SF</td>\n",
       "      <td>New York Knicks</td>\n",
       "    </tr>\n",
       "    <tr>\n",
       "      <th>34</th>\n",
       "      <td>34.0</td>\n",
       "      <td>7402812.0</td>\n",
       "      <td>PG</td>\n",
       "      <td>New York Knicks</td>\n",
       "    </tr>\n",
       "    <tr>\n",
       "      <th>35</th>\n",
       "      <td>25.0</td>\n",
       "      <td>845059.0</td>\n",
       "      <td>SF</td>\n",
       "      <td>New York Knicks</td>\n",
       "    </tr>\n",
       "    <tr>\n",
       "      <th>36</th>\n",
       "      <td>24.0</td>\n",
       "      <td>845059.0</td>\n",
       "      <td>SG</td>\n",
       "      <td>New York Knicks</td>\n",
       "    </tr>\n",
       "    <tr>\n",
       "      <th>37</th>\n",
       "      <td>23.0</td>\n",
       "      <td>1572360.0</td>\n",
       "      <td>PG</td>\n",
       "      <td>New York Knicks</td>\n",
       "    </tr>\n",
       "    <tr>\n",
       "      <th>38</th>\n",
       "      <td>28.0</td>\n",
       "      <td>12650000.0</td>\n",
       "      <td>C</td>\n",
       "      <td>New York Knicks</td>\n",
       "    </tr>\n",
       "    <tr>\n",
       "      <th>39</th>\n",
       "      <td>26.0</td>\n",
       "      <td>3750000.0</td>\n",
       "      <td>PF</td>\n",
       "      <td>New York Knicks</td>\n",
       "    </tr>\n",
       "    <tr>\n",
       "      <th>40</th>\n",
       "      <td>20.0</td>\n",
       "      <td>4131720.0</td>\n",
       "      <td>PF</td>\n",
       "      <td>New York Knicks</td>\n",
       "    </tr>\n",
       "    <tr>\n",
       "      <th>41</th>\n",
       "      <td>26.0</td>\n",
       "      <td>2814000.0</td>\n",
       "      <td>C</td>\n",
       "      <td>New York Knicks</td>\n",
       "    </tr>\n",
       "    <tr>\n",
       "      <th>42</th>\n",
       "      <td>28.0</td>\n",
       "      <td>1636842.0</td>\n",
       "      <td>SF</td>\n",
       "      <td>New York Knicks</td>\n",
       "    </tr>\n",
       "    <tr>\n",
       "      <th>43</th>\n",
       "      <td>32.0</td>\n",
       "      <td>947276.0</td>\n",
       "      <td>SG</td>\n",
       "      <td>New York Knicks</td>\n",
       "    </tr>\n",
       "    <tr>\n",
       "      <th>44</th>\n",
       "      <td>25.0</td>\n",
       "      <td>4000000.0</td>\n",
       "      <td>PF</td>\n",
       "      <td>New York Knicks</td>\n",
       "    </tr>\n",
       "    <tr>\n",
       "      <th>45</th>\n",
       "      <td>23.0</td>\n",
       "      <td>167406.0</td>\n",
       "      <td>SG</td>\n",
       "      <td>New York Knicks</td>\n",
       "    </tr>\n",
       "    <tr>\n",
       "      <th>106</th>\n",
       "      <td>31.0</td>\n",
       "      <td>3000000.0</td>\n",
       "      <td>PF</td>\n",
       "      <td>Los Angeles Lakers</td>\n",
       "    </tr>\n",
       "    <tr>\n",
       "      <th>107</th>\n",
       "      <td>24.0</td>\n",
       "      <td>845059.0</td>\n",
       "      <td>C</td>\n",
       "      <td>Los Angeles Lakers</td>\n",
       "    </tr>\n",
       "    <tr>\n",
       "      <th>108</th>\n",
       "      <td>23.0</td>\n",
       "      <td>700000.0</td>\n",
       "      <td>SF</td>\n",
       "      <td>Los Angeles Lakers</td>\n",
       "    </tr>\n",
       "    <tr>\n",
       "      <th>109</th>\n",
       "      <td>37.0</td>\n",
       "      <td>25000000.0</td>\n",
       "      <td>SF</td>\n",
       "      <td>Los Angeles Lakers</td>\n",
       "    </tr>\n",
       "    <tr>\n",
       "      <th>110</th>\n",
       "      <td>24.0</td>\n",
       "      <td>845059.0</td>\n",
       "      <td>PG</td>\n",
       "      <td>Los Angeles Lakers</td>\n",
       "    </tr>\n",
       "    <tr>\n",
       "      <th>111</th>\n",
       "      <td>29.0</td>\n",
       "      <td>15592217.0</td>\n",
       "      <td>C</td>\n",
       "      <td>Los Angeles Lakers</td>\n",
       "    </tr>\n",
       "    <tr>\n",
       "      <th>112</th>\n",
       "      <td>33.0</td>\n",
       "      <td>525093.0</td>\n",
       "      <td>PG</td>\n",
       "      <td>Los Angeles Lakers</td>\n",
       "    </tr>\n",
       "    <tr>\n",
       "      <th>113</th>\n",
       "      <td>25.0</td>\n",
       "      <td>1724250.0</td>\n",
       "      <td>PF</td>\n",
       "      <td>Los Angeles Lakers</td>\n",
       "    </tr>\n",
       "    <tr>\n",
       "      <th>114</th>\n",
       "      <td>23.0</td>\n",
       "      <td>1155600.0</td>\n",
       "      <td>PF</td>\n",
       "      <td>Los Angeles Lakers</td>\n",
       "    </tr>\n",
       "    <tr>\n",
       "      <th>115</th>\n",
       "      <td>21.0</td>\n",
       "      <td>3132240.0</td>\n",
       "      <td>PF</td>\n",
       "      <td>Los Angeles Lakers</td>\n",
       "    </tr>\n",
       "    <tr>\n",
       "      <th>116</th>\n",
       "      <td>20.0</td>\n",
       "      <td>5103120.0</td>\n",
       "      <td>PG</td>\n",
       "      <td>Los Angeles Lakers</td>\n",
       "    </tr>\n",
       "    <tr>\n",
       "      <th>117</th>\n",
       "      <td>27.0</td>\n",
       "      <td>981348.0</td>\n",
       "      <td>C</td>\n",
       "      <td>Los Angeles Lakers</td>\n",
       "    </tr>\n",
       "    <tr>\n",
       "      <th>118</th>\n",
       "      <td>29.0</td>\n",
       "      <td>7000000.0</td>\n",
       "      <td>SG</td>\n",
       "      <td>Los Angeles Lakers</td>\n",
       "    </tr>\n",
       "    <tr>\n",
       "      <th>119</th>\n",
       "      <td>36.0</td>\n",
       "      <td>947276.0</td>\n",
       "      <td>SF</td>\n",
       "      <td>Los Angeles Lakers</td>\n",
       "    </tr>\n",
       "    <tr>\n",
       "      <th>120</th>\n",
       "      <td>31.0</td>\n",
       "      <td>5219169.0</td>\n",
       "      <td>SF</td>\n",
       "      <td>Los Angeles Lakers</td>\n",
       "    </tr>\n",
       "  </tbody>\n",
       "</table>\n",
       "</div>"
      ],
      "text/plain": [
       "      Age      Salary Position                Team\n",
       "30   30.0   8000000.0       SG     New York Knicks\n",
       "31   33.0   1635476.0       PF     New York Knicks\n",
       "32   23.0     30888.0       SF     New York Knicks\n",
       "33   32.0  22875000.0       SF     New York Knicks\n",
       "34   34.0   7402812.0       PG     New York Knicks\n",
       "35   25.0    845059.0       SF     New York Knicks\n",
       "36   24.0    845059.0       SG     New York Knicks\n",
       "37   23.0   1572360.0       PG     New York Knicks\n",
       "38   28.0  12650000.0        C     New York Knicks\n",
       "39   26.0   3750000.0       PF     New York Knicks\n",
       "40   20.0   4131720.0       PF     New York Knicks\n",
       "41   26.0   2814000.0        C     New York Knicks\n",
       "42   28.0   1636842.0       SF     New York Knicks\n",
       "43   32.0    947276.0       SG     New York Knicks\n",
       "44   25.0   4000000.0       PF     New York Knicks\n",
       "45   23.0    167406.0       SG     New York Knicks\n",
       "106  31.0   3000000.0       PF  Los Angeles Lakers\n",
       "107  24.0    845059.0        C  Los Angeles Lakers\n",
       "108  23.0    700000.0       SF  Los Angeles Lakers\n",
       "109  37.0  25000000.0       SF  Los Angeles Lakers\n",
       "110  24.0    845059.0       PG  Los Angeles Lakers\n",
       "111  29.0  15592217.0        C  Los Angeles Lakers\n",
       "112  33.0    525093.0       PG  Los Angeles Lakers\n",
       "113  25.0   1724250.0       PF  Los Angeles Lakers\n",
       "114  23.0   1155600.0       PF  Los Angeles Lakers\n",
       "115  21.0   3132240.0       PF  Los Angeles Lakers\n",
       "116  20.0   5103120.0       PG  Los Angeles Lakers\n",
       "117  27.0    981348.0        C  Los Angeles Lakers\n",
       "118  29.0   7000000.0       SG  Los Angeles Lakers\n",
       "119  36.0    947276.0       SF  Los Angeles Lakers\n",
       "120  31.0   5219169.0       SF  Los Angeles Lakers"
      ]
     },
     "execution_count": 25,
     "metadata": {},
     "output_type": "execute_result"
    }
   ],
   "source": [
    "import pandas as pd\n",
    "import seaborn as sns\n",
    "from pandas import Series, DataFrame\n",
    "\n",
    "data = pd.read_csv(\"nba.csv\")\n",
    "\n",
    "filter1 = data.loc[:, ['Age', 'Salary', 'Position', 'Team']]\n",
    "filter2 = filter1[filter1['Team'].isin(['New York Knicks', 'Los Angeles Lakers'])]\n",
    "filter2"
   ]
  },
  {
   "cell_type": "markdown",
   "metadata": {},
   "source": [
    "### 2번 문제\n",
    "아래 boxplot 그래프를 보면, 가장 연봉을 많이 받는 사람은 약 37살로 추정이 된다.  \n",
    "그리고 그림상 주황색의 PF의 박스를 통해 약 25살의 나잇대에 PF포지션이 많이 있다는 것을 알 수 있다. "
   ]
  },
  {
   "cell_type": "code",
   "execution_count": 28,
   "metadata": {},
   "outputs": [
    {
     "data": {
      "text/plain": [
       "<AxesSubplot:xlabel='Age', ylabel='Salary'>"
      ]
     },
     "execution_count": 28,
     "metadata": {},
     "output_type": "execute_result"
    },
    {
     "data": {
      "image/png": "[encoded data removed]",
      "text/plain": [
       "<Figure size 432x288 with 1 Axes>"
      ]
     },
     "metadata": {
      "needs_background": "light"
     },
     "output_type": "display_data"
    }
   ],
   "source": [
    "box_graph = sns.boxplot(x='Age', y='Salary', hue='Position', data=filter2)\n",
    "box_graph"
   ]
  },
  {
   "cell_type": "markdown",
   "metadata": {},
   "source": [
    "### 3번 문제\n",
    "아래 그래프를 보면, Salary 상에서 연봉의 비율은 약 0~0.3의 연봉을 받는 사람이 가장 많다는 것을 알 수 있다.   \n",
    "Age상에서는 약 22~26살 사이의 나잇대의 사람이 가장 많은 비율을 차지하는 것을 볼 수 있다.  "
   ]
  },
  {
   "cell_type": "code",
   "execution_count": 31,
   "metadata": {},
   "outputs": [
    {
     "data": {
      "text/plain": [
       "<seaborn.axisgrid.JointGrid at 0x18e02b45a90>"
      ]
     },
     "execution_count": 31,
     "metadata": {},
     "output_type": "execute_result"
    },
    {
     "data": {
      "image/png": "[encoded data removed]",
      "text/plain": [
       "<Figure size 432x432 with 3 Axes>"
      ]
     },
     "metadata": {
      "needs_background": "light"
     },
     "output_type": "display_data"
    }
   ],
   "source": [
    "joint_graph = sns.jointplot(x='Age', y='Salary', data=filter2, kind='reg')\n",
    "joint_graph"
   ]
  },
  {
   "cell_type": "markdown",
   "metadata": {},
   "source": [
    "### 4번 문제\n",
    "나잇대마다 없는 포지션도 있고, 다양하게 분포되어 있다.  \n",
    "SF와 PF 포지션 인원수가 가장 많은 나잇대는 23살과 25살이다.  \n",
    "가장 어린 나잇대 선수들은 PF나 PG의 포지션을 맡았으며,\n",
    "36, 37세 나잇대 선수들은 모두 SF 포지션을 맡은 것을 볼 수 있다."
   ]
  },
  {
   "cell_type": "code",
   "execution_count": 33,
   "metadata": {},
   "outputs": [
    {
     "data": {
      "text/plain": [
       "<seaborn.axisgrid.FacetGrid at 0x18e02e5de80>"
      ]
     },
     "execution_count": 33,
     "metadata": {},
     "output_type": "execute_result"
    },
    {
     "data": {
      "image/png": "[encoded data removed]",
      "text/plain": [
       "<Figure size 1490x360 with 1 Axes>"
      ]
     },
     "metadata": {
      "needs_background": "light"
     },
     "output_type": "display_data"
    }
   ],
   "source": [
    "count_graph = sns.catplot(x='Age', data=filter2, aspect=4.0, kind='count', hue='Position')\n",
    "count_graph.set_ylabels('count')"
   ]
  }
 ],
 "metadata": {
  "kernelspec": {
   "display_name": "Python 3",
   "language": "python",
   "name": "python3"
  },
  "language_info": {
   "codemirror_mode": {
    "name": "ipython",
    "version": 3
   },
   "file_extension": ".py",
   "mimetype": "text/x-python",
   "name": "python",
   "nbconvert_exporter": "python",
   "pygments_lexer": "ipython3",
   "version": "3.8.5"
  }
 },
 "nbformat": 4,
 "nbformat_minor": 4
}
